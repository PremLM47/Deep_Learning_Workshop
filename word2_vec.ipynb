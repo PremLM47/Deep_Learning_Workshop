{
  "nbformat": 4,
  "nbformat_minor": 0,
  "metadata": {
    "colab": {
      "provenance": []
    },
    "kernelspec": {
      "name": "python3",
      "display_name": "Python 3"
    },
    "language_info": {
      "name": "python"
    }
  },
  "cells": [
    {
      "cell_type": "markdown",
      "source": [
        "https://radimrehurek.com/gensim/"
      ],
      "metadata": {
        "id": "0p-X8zvh3d1i"
      }
    },
    {
      "cell_type": "code",
      "source": [
        "!pip install nltk"
      ],
      "metadata": {
        "colab": {
          "base_uri": "https://localhost:8080/"
        },
        "id": "VCu1GMghnU_y",
        "outputId": "ef4b148e-7e27-4738-a859-02b2dc736134"
      },
      "execution_count": 1,
      "outputs": [
        {
          "output_type": "stream",
          "name": "stdout",
          "text": [
            "Requirement already satisfied: nltk in /usr/local/lib/python3.10/dist-packages (3.8.1)\n",
            "Requirement already satisfied: click in /usr/local/lib/python3.10/dist-packages (from nltk) (8.1.6)\n",
            "Requirement already satisfied: joblib in /usr/local/lib/python3.10/dist-packages (from nltk) (1.3.2)\n",
            "Requirement already satisfied: regex>=2021.8.3 in /usr/local/lib/python3.10/dist-packages (from nltk) (2023.6.3)\n",
            "Requirement already satisfied: tqdm in /usr/local/lib/python3.10/dist-packages (from nltk) (4.66.1)\n"
          ]
        }
      ]
    },
    {
      "cell_type": "code",
      "execution_count": 2,
      "metadata": {
        "colab": {
          "base_uri": "https://localhost:8080/"
        },
        "id": "zzWvL12wgZPo",
        "outputId": "12ef1f88-4984-482f-8538-e8426fd58dbb"
      },
      "outputs": [
        {
          "output_type": "stream",
          "name": "stderr",
          "text": [
            "[nltk_data] Downloading package punkt to /root/nltk_data...\n",
            "[nltk_data]   Unzipping tokenizers/punkt.zip.\n",
            "[nltk_data] Downloading package stopwords to /root/nltk_data...\n",
            "[nltk_data]   Unzipping corpora/stopwords.zip.\n"
          ]
        },
        {
          "output_type": "execute_result",
          "data": {
            "text/plain": [
              "True"
            ]
          },
          "metadata": {},
          "execution_count": 2
        }
      ],
      "source": [
        "import nltk\n",
        "import re\n",
        "from gensim.models import Word2Vec # word 2vec  --> it understand contex and gives meaning to it\n",
        "from nltk.corpus import stopwords\n",
        "nltk.download('punkt')\n",
        "nltk.download('stopwords')"
      ]
    },
    {
      "cell_type": "markdown",
      "source": [],
      "metadata": {
        "id": "4PbBY3Bq3c9y"
      }
    },
    {
      "cell_type": "code",
      "source": [
        "paragraph = \"\"\"I have three visions for India. In 3000 years of our history, people from all over\n",
        "               the world have come and invaded us, captured our lands, conquered our minds.\n",
        "               From Alexander onwards, the Greeks, the Turks, the Moguls, the Portuguese, the British,\n",
        "               the French, the Dutch, all of them came and looted us, took over what was ours.\n",
        "               Yet we have not done this to any other nation. We have not conquered anyone.\n",
        "               We have not grabbed their land, their culture,\n",
        "               their history and tried to enforce our way of life on them.\n",
        "               Why? Because we respect the freedom of others.That is why my\n",
        "               first vision is that of freedom. I believe that India got its first vision of\n",
        "               this in 1857, when we started the War of Independence. It is this freedom that\n",
        "               we must protect and nurture and build on. If we are not free, no one will respect us.\n",
        "               My second vision for India’s development. For fifty years we have been a developing nation.\n",
        "               It is time we see ourselves as a developed nation. We are among the top 5 nations of the world\n",
        "               in terms of GDP. We have a 10 percent growth rate in most areas. Our poverty levels are falling.\n",
        "               Our achievements are being globally recognised today. Yet we lack the self-confidence to\n",
        "               see ourselves as a developed nation, self-reliant and self-assured. Isn’t this incorrect?\n",
        "               I have a third vision. India must stand up to the world. Because I believe that unless India\n",
        "               stands up to the world, no one will respect us. Only strength respects strength. We must be\n",
        "               strong not only as a military power but also as an economic power. Both must go hand-in-hand.\n",
        "               My good fortune was to have worked with three great minds. Dr. Vikram Sarabhai of the Dept. of\n",
        "               space, Professor Satish Dhawan, who succeeded him and Dr. Brahm Prakash, father of nuclear material.\n",
        "               I was lucky to have worked with all three of them closely and consider this the great opportunity of my life.\n",
        "               I see four milestones in my career\"\"\""
      ],
      "metadata": {
        "id": "njwDldaRgfrQ"
      },
      "execution_count": 3,
      "outputs": []
    },
    {
      "cell_type": "code",
      "source": [
        "# Preprocessing the data\n",
        "text = re.sub(r'\\[[0-9]*\\]',' ',paragraph)\n",
        "text = re.sub(r'\\s+',' ',text)\n",
        "text = text.lower()\n",
        "text = re.sub(r'\\d',' ',text) # digit\n",
        "text = re.sub(r'\\s+',' ',text) # no space"
      ],
      "metadata": {
        "id": "VEOc9JDFgsCA"
      },
      "execution_count": 4,
      "outputs": []
    },
    {
      "cell_type": "code",
      "source": [
        "text"
      ],
      "metadata": {
        "colab": {
          "base_uri": "https://localhost:8080/",
          "height": 123
        },
        "id": "FqdKgZSCoLao",
        "outputId": "bb511d09-1ca0-4bbb-8bb3-c983ea1bf26a"
      },
      "execution_count": 5,
      "outputs": [
        {
          "output_type": "execute_result",
          "data": {
            "text/plain": [
              "'i have three visions for india. in years of our history, people from all over the world have come and invaded us, captured our lands, conquered our minds. from alexander onwards, the greeks, the turks, the moguls, the portuguese, the british, the french, the dutch, all of them came and looted us, took over what was ours. yet we have not done this to any other nation. we have not conquered anyone. we have not grabbed their land, their culture, their history and tried to enforce our way of life on them. why? because we respect the freedom of others.that is why my first vision is that of freedom. i believe that india got its first vision of this in , when we started the war of independence. it is this freedom that we must protect and nurture and build on. if we are not free, no one will respect us. my second vision for india’s development. for fifty years we have been a developing nation. it is time we see ourselves as a developed nation. we are among the top nations of the world in terms of gdp. we have a percent growth rate in most areas. our poverty levels are falling. our achievements are being globally recognised today. yet we lack the self-confidence to see ourselves as a developed nation, self-reliant and self-assured. isn’t this incorrect? i have a third vision. india must stand up to the world. because i believe that unless india stands up to the world, no one will respect us. only strength respects strength. we must be strong not only as a military power but also as an economic power. both must go hand-in-hand. my good fortune was to have worked with three great minds. dr. vikram sarabhai of the dept. of space, professor satish dhawan, who succeeded him and dr. brahm prakash, father of nuclear material. i was lucky to have worked with all three of them closely and consider this the great opportunity of my life. i see four milestones in my career'"
            ],
            "application/vnd.google.colaboratory.intrinsic+json": {
              "type": "string"
            }
          },
          "metadata": {},
          "execution_count": 5
        }
      ]
    },
    {
      "cell_type": "markdown",
      "source": [
        "**import re\n",
        "\n",
        "# The paragraph variable likely contains some text to be cleaned\n",
        "# Let's assume it contains something like \"This is a [1] sample paragraph. [2]\"\n",
        "\n",
        "# This line of code uses the re module to replace any substring that matches the pattern\n",
        "# r'\\[[0-9]*\\]' with a single space. This pattern matches any string that starts with a left\n",
        "# square bracket, followed by any number of digits (including zero), followed by a right\n",
        "# square bracket. The * character means \"zero or more occurrences of the preceding pattern.\"\n",
        "# For example, the pattern [0-9]* would match any sequence of zero or more digits.\n",
        "text = re.sub(r'\\[[0-9]*\\]', ' ', paragraph)\n",
        "\n",
        "# This line of code uses re.sub() again to replace any sequence of one or more whitespace\n",
        "# characters with a single space character. The \\s+ pattern matches one or more whitespace\n",
        "# characters, and the replacement string ' ' is a single space.\n",
        "text = re.sub(r'\\s+', ' ', text)\n",
        "\n",
        "# This line of code converts all characters in the string to lowercase.\n",
        "text = text.lower()\n",
        "\n",
        "# This line of code uses re.sub() once again to replace any sequence of one or more digits\n",
        "# with a single space character. The \\d pattern matches any digit character, and the\n",
        "# replacement string ' ' is a single space.\n",
        "text = re.sub(r'\\d', ' ', text)\n",
        "\n",
        "# This line of code uses re.sub() again to replace any sequence of one or more whitespace\n",
        "# characters with a single space character. This is the same pattern as before, but this\n",
        "# time we're applying it to the cleaned text that has had digits removed.\n",
        "text = re.sub(r'\\s+', ' ', text)\n",
        "**"
      ],
      "metadata": {
        "id": "D9lRrih34oM1"
      }
    },
    {
      "cell_type": "code",
      "source": [],
      "metadata": {
        "id": "JJsjGJMj4nwp"
      },
      "execution_count": 5,
      "outputs": []
    },
    {
      "cell_type": "code",
      "source": [
        "text"
      ],
      "metadata": {
        "colab": {
          "base_uri": "https://localhost:8080/",
          "height": 123
        },
        "id": "cySsE2erg1QJ",
        "outputId": "34073b47-88a7-433a-c867-d81b9d1b5edd"
      },
      "execution_count": 6,
      "outputs": [
        {
          "output_type": "execute_result",
          "data": {
            "text/plain": [
              "'i have three visions for india. in years of our history, people from all over the world have come and invaded us, captured our lands, conquered our minds. from alexander onwards, the greeks, the turks, the moguls, the portuguese, the british, the french, the dutch, all of them came and looted us, took over what was ours. yet we have not done this to any other nation. we have not conquered anyone. we have not grabbed their land, their culture, their history and tried to enforce our way of life on them. why? because we respect the freedom of others.that is why my first vision is that of freedom. i believe that india got its first vision of this in , when we started the war of independence. it is this freedom that we must protect and nurture and build on. if we are not free, no one will respect us. my second vision for india’s development. for fifty years we have been a developing nation. it is time we see ourselves as a developed nation. we are among the top nations of the world in terms of gdp. we have a percent growth rate in most areas. our poverty levels are falling. our achievements are being globally recognised today. yet we lack the self-confidence to see ourselves as a developed nation, self-reliant and self-assured. isn’t this incorrect? i have a third vision. india must stand up to the world. because i believe that unless india stands up to the world, no one will respect us. only strength respects strength. we must be strong not only as a military power but also as an economic power. both must go hand-in-hand. my good fortune was to have worked with three great minds. dr. vikram sarabhai of the dept. of space, professor satish dhawan, who succeeded him and dr. brahm prakash, father of nuclear material. i was lucky to have worked with all three of them closely and consider this the great opportunity of my life. i see four milestones in my career'"
            ],
            "application/vnd.google.colaboratory.intrinsic+json": {
              "type": "string"
            }
          },
          "metadata": {},
          "execution_count": 6
        }
      ]
    },
    {
      "cell_type": "code",
      "source": [
        "# Preparing the dataset\n",
        "sentences = nltk.sent_tokenize(text) # to make individual sentences"
      ],
      "metadata": {
        "id": "c146LIyhg0KQ"
      },
      "execution_count": 7,
      "outputs": []
    },
    {
      "cell_type": "code",
      "source": [
        "sentences"
      ],
      "metadata": {
        "colab": {
          "base_uri": "https://localhost:8080/"
        },
        "id": "cn9cTTzUocBg",
        "outputId": "1baa8d78-c911-47fc-9b1f-21346d18740a"
      },
      "execution_count": 8,
      "outputs": [
        {
          "output_type": "execute_result",
          "data": {
            "text/plain": [
              "['i have three visions for india.',\n",
              " 'in years of our history, people from all over the world have come and invaded us, captured our lands, conquered our minds.',\n",
              " 'from alexander onwards, the greeks, the turks, the moguls, the portuguese, the british, the french, the dutch, all of them came and looted us, took over what was ours.',\n",
              " 'yet we have not done this to any other nation.',\n",
              " 'we have not conquered anyone.',\n",
              " 'we have not grabbed their land, their culture, their history and tried to enforce our way of life on them.',\n",
              " 'why?',\n",
              " 'because we respect the freedom of others.that is why my first vision is that of freedom.',\n",
              " 'i believe that india got its first vision of this in , when we started the war of independence.',\n",
              " 'it is this freedom that we must protect and nurture and build on.',\n",
              " 'if we are not free, no one will respect us.',\n",
              " 'my second vision for india’s development.',\n",
              " 'for fifty years we have been a developing nation.',\n",
              " 'it is time we see ourselves as a developed nation.',\n",
              " 'we are among the top nations of the world in terms of gdp.',\n",
              " 'we have a percent growth rate in most areas.',\n",
              " 'our poverty levels are falling.',\n",
              " 'our achievements are being globally recognised today.',\n",
              " 'yet we lack the self-confidence to see ourselves as a developed nation, self-reliant and self-assured.',\n",
              " 'isn’t this incorrect?',\n",
              " 'i have a third vision.',\n",
              " 'india must stand up to the world.',\n",
              " 'because i believe that unless india stands up to the world, no one will respect us.',\n",
              " 'only strength respects strength.',\n",
              " 'we must be strong not only as a military power but also as an economic power.',\n",
              " 'both must go hand-in-hand.',\n",
              " 'my good fortune was to have worked with three great minds.',\n",
              " 'dr. vikram sarabhai of the dept.',\n",
              " 'of space, professor satish dhawan, who succeeded him and dr. brahm prakash, father of nuclear material.',\n",
              " 'i was lucky to have worked with all three of them closely and consider this the great opportunity of my life.',\n",
              " 'i see four milestones in my career']"
            ]
          },
          "metadata": {},
          "execution_count": 8
        }
      ]
    },
    {
      "cell_type": "code",
      "source": [
        "sentences = [nltk.word_tokenize(sentence) for sentence in sentences] # converted in individual words"
      ],
      "metadata": {
        "id": "6W6xezkUhBJH"
      },
      "execution_count": 9,
      "outputs": []
    },
    {
      "cell_type": "code",
      "source": [
        "sentences"
      ],
      "metadata": {
        "id": "uQUta_1chDLn",
        "colab": {
          "base_uri": "https://localhost:8080/"
        },
        "outputId": "41bb1585-48ba-49e3-b13d-33cc6467fc65"
      },
      "execution_count": 10,
      "outputs": [
        {
          "output_type": "execute_result",
          "data": {
            "text/plain": [
              "[['i', 'have', 'three', 'visions', 'for', 'india', '.'],\n",
              " ['in',\n",
              "  'years',\n",
              "  'of',\n",
              "  'our',\n",
              "  'history',\n",
              "  ',',\n",
              "  'people',\n",
              "  'from',\n",
              "  'all',\n",
              "  'over',\n",
              "  'the',\n",
              "  'world',\n",
              "  'have',\n",
              "  'come',\n",
              "  'and',\n",
              "  'invaded',\n",
              "  'us',\n",
              "  ',',\n",
              "  'captured',\n",
              "  'our',\n",
              "  'lands',\n",
              "  ',',\n",
              "  'conquered',\n",
              "  'our',\n",
              "  'minds',\n",
              "  '.'],\n",
              " ['from',\n",
              "  'alexander',\n",
              "  'onwards',\n",
              "  ',',\n",
              "  'the',\n",
              "  'greeks',\n",
              "  ',',\n",
              "  'the',\n",
              "  'turks',\n",
              "  ',',\n",
              "  'the',\n",
              "  'moguls',\n",
              "  ',',\n",
              "  'the',\n",
              "  'portuguese',\n",
              "  ',',\n",
              "  'the',\n",
              "  'british',\n",
              "  ',',\n",
              "  'the',\n",
              "  'french',\n",
              "  ',',\n",
              "  'the',\n",
              "  'dutch',\n",
              "  ',',\n",
              "  'all',\n",
              "  'of',\n",
              "  'them',\n",
              "  'came',\n",
              "  'and',\n",
              "  'looted',\n",
              "  'us',\n",
              "  ',',\n",
              "  'took',\n",
              "  'over',\n",
              "  'what',\n",
              "  'was',\n",
              "  'ours',\n",
              "  '.'],\n",
              " ['yet',\n",
              "  'we',\n",
              "  'have',\n",
              "  'not',\n",
              "  'done',\n",
              "  'this',\n",
              "  'to',\n",
              "  'any',\n",
              "  'other',\n",
              "  'nation',\n",
              "  '.'],\n",
              " ['we', 'have', 'not', 'conquered', 'anyone', '.'],\n",
              " ['we',\n",
              "  'have',\n",
              "  'not',\n",
              "  'grabbed',\n",
              "  'their',\n",
              "  'land',\n",
              "  ',',\n",
              "  'their',\n",
              "  'culture',\n",
              "  ',',\n",
              "  'their',\n",
              "  'history',\n",
              "  'and',\n",
              "  'tried',\n",
              "  'to',\n",
              "  'enforce',\n",
              "  'our',\n",
              "  'way',\n",
              "  'of',\n",
              "  'life',\n",
              "  'on',\n",
              "  'them',\n",
              "  '.'],\n",
              " ['why', '?'],\n",
              " ['because',\n",
              "  'we',\n",
              "  'respect',\n",
              "  'the',\n",
              "  'freedom',\n",
              "  'of',\n",
              "  'others.that',\n",
              "  'is',\n",
              "  'why',\n",
              "  'my',\n",
              "  'first',\n",
              "  'vision',\n",
              "  'is',\n",
              "  'that',\n",
              "  'of',\n",
              "  'freedom',\n",
              "  '.'],\n",
              " ['i',\n",
              "  'believe',\n",
              "  'that',\n",
              "  'india',\n",
              "  'got',\n",
              "  'its',\n",
              "  'first',\n",
              "  'vision',\n",
              "  'of',\n",
              "  'this',\n",
              "  'in',\n",
              "  ',',\n",
              "  'when',\n",
              "  'we',\n",
              "  'started',\n",
              "  'the',\n",
              "  'war',\n",
              "  'of',\n",
              "  'independence',\n",
              "  '.'],\n",
              " ['it',\n",
              "  'is',\n",
              "  'this',\n",
              "  'freedom',\n",
              "  'that',\n",
              "  'we',\n",
              "  'must',\n",
              "  'protect',\n",
              "  'and',\n",
              "  'nurture',\n",
              "  'and',\n",
              "  'build',\n",
              "  'on',\n",
              "  '.'],\n",
              " ['if',\n",
              "  'we',\n",
              "  'are',\n",
              "  'not',\n",
              "  'free',\n",
              "  ',',\n",
              "  'no',\n",
              "  'one',\n",
              "  'will',\n",
              "  'respect',\n",
              "  'us',\n",
              "  '.'],\n",
              " ['my', 'second', 'vision', 'for', 'india', '’', 's', 'development', '.'],\n",
              " ['for',\n",
              "  'fifty',\n",
              "  'years',\n",
              "  'we',\n",
              "  'have',\n",
              "  'been',\n",
              "  'a',\n",
              "  'developing',\n",
              "  'nation',\n",
              "  '.'],\n",
              " ['it',\n",
              "  'is',\n",
              "  'time',\n",
              "  'we',\n",
              "  'see',\n",
              "  'ourselves',\n",
              "  'as',\n",
              "  'a',\n",
              "  'developed',\n",
              "  'nation',\n",
              "  '.'],\n",
              " ['we',\n",
              "  'are',\n",
              "  'among',\n",
              "  'the',\n",
              "  'top',\n",
              "  'nations',\n",
              "  'of',\n",
              "  'the',\n",
              "  'world',\n",
              "  'in',\n",
              "  'terms',\n",
              "  'of',\n",
              "  'gdp',\n",
              "  '.'],\n",
              " ['we', 'have', 'a', 'percent', 'growth', 'rate', 'in', 'most', 'areas', '.'],\n",
              " ['our', 'poverty', 'levels', 'are', 'falling', '.'],\n",
              " ['our',\n",
              "  'achievements',\n",
              "  'are',\n",
              "  'being',\n",
              "  'globally',\n",
              "  'recognised',\n",
              "  'today',\n",
              "  '.'],\n",
              " ['yet',\n",
              "  'we',\n",
              "  'lack',\n",
              "  'the',\n",
              "  'self-confidence',\n",
              "  'to',\n",
              "  'see',\n",
              "  'ourselves',\n",
              "  'as',\n",
              "  'a',\n",
              "  'developed',\n",
              "  'nation',\n",
              "  ',',\n",
              "  'self-reliant',\n",
              "  'and',\n",
              "  'self-assured',\n",
              "  '.'],\n",
              " ['isn', '’', 't', 'this', 'incorrect', '?'],\n",
              " ['i', 'have', 'a', 'third', 'vision', '.'],\n",
              " ['india', 'must', 'stand', 'up', 'to', 'the', 'world', '.'],\n",
              " ['because',\n",
              "  'i',\n",
              "  'believe',\n",
              "  'that',\n",
              "  'unless',\n",
              "  'india',\n",
              "  'stands',\n",
              "  'up',\n",
              "  'to',\n",
              "  'the',\n",
              "  'world',\n",
              "  ',',\n",
              "  'no',\n",
              "  'one',\n",
              "  'will',\n",
              "  'respect',\n",
              "  'us',\n",
              "  '.'],\n",
              " ['only', 'strength', 'respects', 'strength', '.'],\n",
              " ['we',\n",
              "  'must',\n",
              "  'be',\n",
              "  'strong',\n",
              "  'not',\n",
              "  'only',\n",
              "  'as',\n",
              "  'a',\n",
              "  'military',\n",
              "  'power',\n",
              "  'but',\n",
              "  'also',\n",
              "  'as',\n",
              "  'an',\n",
              "  'economic',\n",
              "  'power',\n",
              "  '.'],\n",
              " ['both', 'must', 'go', 'hand-in-hand', '.'],\n",
              " ['my',\n",
              "  'good',\n",
              "  'fortune',\n",
              "  'was',\n",
              "  'to',\n",
              "  'have',\n",
              "  'worked',\n",
              "  'with',\n",
              "  'three',\n",
              "  'great',\n",
              "  'minds',\n",
              "  '.'],\n",
              " ['dr.', 'vikram', 'sarabhai', 'of', 'the', 'dept', '.'],\n",
              " ['of',\n",
              "  'space',\n",
              "  ',',\n",
              "  'professor',\n",
              "  'satish',\n",
              "  'dhawan',\n",
              "  ',',\n",
              "  'who',\n",
              "  'succeeded',\n",
              "  'him',\n",
              "  'and',\n",
              "  'dr.',\n",
              "  'brahm',\n",
              "  'prakash',\n",
              "  ',',\n",
              "  'father',\n",
              "  'of',\n",
              "  'nuclear',\n",
              "  'material',\n",
              "  '.'],\n",
              " ['i',\n",
              "  'was',\n",
              "  'lucky',\n",
              "  'to',\n",
              "  'have',\n",
              "  'worked',\n",
              "  'with',\n",
              "  'all',\n",
              "  'three',\n",
              "  'of',\n",
              "  'them',\n",
              "  'closely',\n",
              "  'and',\n",
              "  'consider',\n",
              "  'this',\n",
              "  'the',\n",
              "  'great',\n",
              "  'opportunity',\n",
              "  'of',\n",
              "  'my',\n",
              "  'life',\n",
              "  '.'],\n",
              " ['i', 'see', 'four', 'milestones', 'in', 'my', 'career']]"
            ]
          },
          "metadata": {},
          "execution_count": 10
        }
      ]
    },
    {
      "cell_type": "code",
      "source": [
        "len(sentences)"
      ],
      "metadata": {
        "colab": {
          "base_uri": "https://localhost:8080/"
        },
        "id": "4GtFHd2qo2b4",
        "outputId": "d9a3b7fc-6e59-4ed2-d6d6-dbe63f320d2f"
      },
      "execution_count": 11,
      "outputs": [
        {
          "output_type": "execute_result",
          "data": {
            "text/plain": [
              "31"
            ]
          },
          "metadata": {},
          "execution_count": 11
        }
      ]
    },
    {
      "cell_type": "code",
      "source": [
        "for i in range(len(sentences)):\n",
        "  print(i)"
      ],
      "metadata": {
        "id": "OPC8kJZQo1ka",
        "colab": {
          "base_uri": "https://localhost:8080/"
        },
        "outputId": "16b900f7-c760-4da9-bf31-45cacec0ab31"
      },
      "execution_count": 12,
      "outputs": [
        {
          "output_type": "stream",
          "name": "stdout",
          "text": [
            "0\n",
            "1\n",
            "2\n",
            "3\n",
            "4\n",
            "5\n",
            "6\n",
            "7\n",
            "8\n",
            "9\n",
            "10\n",
            "11\n",
            "12\n",
            "13\n",
            "14\n",
            "15\n",
            "16\n",
            "17\n",
            "18\n",
            "19\n",
            "20\n",
            "21\n",
            "22\n",
            "23\n",
            "24\n",
            "25\n",
            "26\n",
            "27\n",
            "28\n",
            "29\n",
            "30\n"
          ]
        }
      ]
    },
    {
      "cell_type": "code",
      "source": [
        "for i in range(len(sentences)):\n",
        "    sentences[i] = [word for word in sentences[i] if word not in stopwords.words('english')]\n"
      ],
      "metadata": {
        "id": "YmBaX-0lhG7x"
      },
      "execution_count": 13,
      "outputs": []
    },
    {
      "cell_type": "code",
      "source": [
        "sentences"
      ],
      "metadata": {
        "id": "wUFnQui3he6R",
        "colab": {
          "base_uri": "https://localhost:8080/"
        },
        "outputId": "83df006b-caca-4feb-d2a0-e59b1ee76192"
      },
      "execution_count": 14,
      "outputs": [
        {
          "output_type": "execute_result",
          "data": {
            "text/plain": [
              "[['three', 'visions', 'india', '.'],\n",
              " ['years',\n",
              "  'history',\n",
              "  ',',\n",
              "  'people',\n",
              "  'world',\n",
              "  'come',\n",
              "  'invaded',\n",
              "  'us',\n",
              "  ',',\n",
              "  'captured',\n",
              "  'lands',\n",
              "  ',',\n",
              "  'conquered',\n",
              "  'minds',\n",
              "  '.'],\n",
              " ['alexander',\n",
              "  'onwards',\n",
              "  ',',\n",
              "  'greeks',\n",
              "  ',',\n",
              "  'turks',\n",
              "  ',',\n",
              "  'moguls',\n",
              "  ',',\n",
              "  'portuguese',\n",
              "  ',',\n",
              "  'british',\n",
              "  ',',\n",
              "  'french',\n",
              "  ',',\n",
              "  'dutch',\n",
              "  ',',\n",
              "  'came',\n",
              "  'looted',\n",
              "  'us',\n",
              "  ',',\n",
              "  'took',\n",
              "  '.'],\n",
              " ['yet', 'done', 'nation', '.'],\n",
              " ['conquered', 'anyone', '.'],\n",
              " ['grabbed',\n",
              "  'land',\n",
              "  ',',\n",
              "  'culture',\n",
              "  ',',\n",
              "  'history',\n",
              "  'tried',\n",
              "  'enforce',\n",
              "  'way',\n",
              "  'life',\n",
              "  '.'],\n",
              " ['?'],\n",
              " ['respect', 'freedom', 'others.that', 'first', 'vision', 'freedom', '.'],\n",
              " ['believe',\n",
              "  'india',\n",
              "  'got',\n",
              "  'first',\n",
              "  'vision',\n",
              "  ',',\n",
              "  'started',\n",
              "  'war',\n",
              "  'independence',\n",
              "  '.'],\n",
              " ['freedom', 'must', 'protect', 'nurture', 'build', '.'],\n",
              " ['free', ',', 'one', 'respect', 'us', '.'],\n",
              " ['second', 'vision', 'india', '’', 'development', '.'],\n",
              " ['fifty', 'years', 'developing', 'nation', '.'],\n",
              " ['time', 'see', 'developed', 'nation', '.'],\n",
              " ['among', 'top', 'nations', 'world', 'terms', 'gdp', '.'],\n",
              " ['percent', 'growth', 'rate', 'areas', '.'],\n",
              " ['poverty', 'levels', 'falling', '.'],\n",
              " ['achievements', 'globally', 'recognised', 'today', '.'],\n",
              " ['yet',\n",
              "  'lack',\n",
              "  'self-confidence',\n",
              "  'see',\n",
              "  'developed',\n",
              "  'nation',\n",
              "  ',',\n",
              "  'self-reliant',\n",
              "  'self-assured',\n",
              "  '.'],\n",
              " ['’', 'incorrect', '?'],\n",
              " ['third', 'vision', '.'],\n",
              " ['india', 'must', 'stand', 'world', '.'],\n",
              " ['believe',\n",
              "  'unless',\n",
              "  'india',\n",
              "  'stands',\n",
              "  'world',\n",
              "  ',',\n",
              "  'one',\n",
              "  'respect',\n",
              "  'us',\n",
              "  '.'],\n",
              " ['strength', 'respects', 'strength', '.'],\n",
              " ['must', 'strong', 'military', 'power', 'also', 'economic', 'power', '.'],\n",
              " ['must', 'go', 'hand-in-hand', '.'],\n",
              " ['good', 'fortune', 'worked', 'three', 'great', 'minds', '.'],\n",
              " ['dr.', 'vikram', 'sarabhai', 'dept', '.'],\n",
              " ['space',\n",
              "  ',',\n",
              "  'professor',\n",
              "  'satish',\n",
              "  'dhawan',\n",
              "  ',',\n",
              "  'succeeded',\n",
              "  'dr.',\n",
              "  'brahm',\n",
              "  'prakash',\n",
              "  ',',\n",
              "  'father',\n",
              "  'nuclear',\n",
              "  'material',\n",
              "  '.'],\n",
              " ['lucky',\n",
              "  'worked',\n",
              "  'three',\n",
              "  'closely',\n",
              "  'consider',\n",
              "  'great',\n",
              "  'opportunity',\n",
              "  'life',\n",
              "  '.'],\n",
              " ['see', 'four', 'milestones', 'career']]"
            ]
          },
          "metadata": {},
          "execution_count": 14
        }
      ]
    },
    {
      "cell_type": "code",
      "source": [],
      "metadata": {
        "id": "aE3bxPHch7_A"
      },
      "execution_count": 14,
      "outputs": []
    },
    {
      "cell_type": "code",
      "source": [
        "# Training the Word2Vec model\n",
        "model = Word2Vec(sentences, min_count=1) # min_count it shows the frequency of the word if it is equal then we consider that word otherwise we drop it"
      ],
      "metadata": {
        "id": "fYJWLf5zhHAw"
      },
      "execution_count": 32,
      "outputs": []
    },
    {
      "cell_type": "code",
      "source": [
        "model"
      ],
      "metadata": {
        "colab": {
          "base_uri": "https://localhost:8080/"
        },
        "id": "lpeh9sem5WlA",
        "outputId": "39b26188-d2e0-40bd-dd21-412ce0168f5e"
      },
      "execution_count": 33,
      "outputs": [
        {
          "output_type": "execute_result",
          "data": {
            "text/plain": [
              "<gensim.models.word2vec.Word2Vec at 0x7e36050b2ec0>"
            ]
          },
          "metadata": {},
          "execution_count": 33
        }
      ]
    },
    {
      "cell_type": "code",
      "source": [
        "words = model.wv.vocab # old model so no error in chat gpt\n",
        "words"
      ],
      "metadata": {
        "id": "f6XdfVvkh8sB",
        "colab": {
          "base_uri": "https://localhost:8080/",
          "height": 349
        },
        "outputId": "f45d33e8-f1b9-4930-9df5-a3086aa2c612"
      },
      "execution_count": 17,
      "outputs": [
        {
          "output_type": "error",
          "ename": "AttributeError",
          "evalue": "ignored",
          "traceback": [
            "\u001b[0;31m---------------------------------------------------------------------------\u001b[0m",
            "\u001b[0;31mAttributeError\u001b[0m                            Traceback (most recent call last)",
            "\u001b[0;32m<ipython-input-17-1e4d954072c8>\u001b[0m in \u001b[0;36m<cell line: 1>\u001b[0;34m()\u001b[0m\n\u001b[0;32m----> 1\u001b[0;31m \u001b[0mwords\u001b[0m \u001b[0;34m=\u001b[0m \u001b[0mmodel\u001b[0m\u001b[0;34m.\u001b[0m\u001b[0mwv\u001b[0m\u001b[0;34m.\u001b[0m\u001b[0mvocab\u001b[0m \u001b[0;31m# old model so no error in chat gpt\u001b[0m\u001b[0;34m\u001b[0m\u001b[0;34m\u001b[0m\u001b[0m\n\u001b[0m\u001b[1;32m      2\u001b[0m \u001b[0mwords\u001b[0m\u001b[0;34m\u001b[0m\u001b[0;34m\u001b[0m\u001b[0m\n",
            "\u001b[0;32m/usr/local/lib/python3.10/dist-packages/gensim/models/keyedvectors.py\u001b[0m in \u001b[0;36mvocab\u001b[0;34m(self)\u001b[0m\n\u001b[1;32m    732\u001b[0m     \u001b[0;34m@\u001b[0m\u001b[0mproperty\u001b[0m\u001b[0;34m\u001b[0m\u001b[0;34m\u001b[0m\u001b[0m\n\u001b[1;32m    733\u001b[0m     \u001b[0;32mdef\u001b[0m \u001b[0mvocab\u001b[0m\u001b[0;34m(\u001b[0m\u001b[0mself\u001b[0m\u001b[0;34m)\u001b[0m\u001b[0;34m:\u001b[0m\u001b[0;34m\u001b[0m\u001b[0;34m\u001b[0m\u001b[0m\n\u001b[0;32m--> 734\u001b[0;31m         raise AttributeError(\n\u001b[0m\u001b[1;32m    735\u001b[0m             \u001b[0;34m\"The vocab attribute was removed from KeyedVector in Gensim 4.0.0.\\n\"\u001b[0m\u001b[0;34m\u001b[0m\u001b[0;34m\u001b[0m\u001b[0m\n\u001b[1;32m    736\u001b[0m             \u001b[0;34m\"Use KeyedVector's .key_to_index dict, .index_to_key list, and methods \"\u001b[0m\u001b[0;34m\u001b[0m\u001b[0;34m\u001b[0m\u001b[0m\n",
            "\u001b[0;31mAttributeError\u001b[0m: The vocab attribute was removed from KeyedVector in Gensim 4.0.0.\nUse KeyedVector's .key_to_index dict, .index_to_key list, and methods .get_vecattr(key, attr) and .set_vecattr(key, attr, new_val) instead.\nSee https://github.com/RaRe-Technologies/gensim/wiki/Migrating-from-Gensim-3.x-to-4"
          ]
        }
      ]
    },
    {
      "cell_type": "code",
      "source": [
        "words = list(model.wv.index_to_key) # shows the result of the words whose count we have given above in model as we have given min_count=1 so it shows all the words or\n",
        "# characters which have occurred once\n",
        "words"
      ],
      "metadata": {
        "id": "DrsfrCUu5miI",
        "colab": {
          "base_uri": "https://localhost:8080/"
        },
        "outputId": "10425d8a-e228-4b46-a0a3-9fc4a2cc23a5"
      },
      "execution_count": 34,
      "outputs": [
        {
          "output_type": "execute_result",
          "data": {
            "text/plain": [
              "['.',\n",
              " ',',\n",
              " 'india',\n",
              " 'vision',\n",
              " 'must',\n",
              " 'nation',\n",
              " 'world',\n",
              " 'us',\n",
              " 'three',\n",
              " 'freedom',\n",
              " 'respect',\n",
              " 'see',\n",
              " 'first',\n",
              " 'power',\n",
              " 'yet',\n",
              " '’',\n",
              " 'strength',\n",
              " 'worked',\n",
              " '?',\n",
              " 'life',\n",
              " 'believe',\n",
              " 'dr.',\n",
              " 'great',\n",
              " 'minds',\n",
              " 'one',\n",
              " 'years',\n",
              " 'history',\n",
              " 'developed',\n",
              " 'conquered',\n",
              " 'protect',\n",
              " 'others.that',\n",
              " 'war',\n",
              " 'nurture',\n",
              " 'independence',\n",
              " 'build',\n",
              " 'free',\n",
              " 'tried',\n",
              " 'got',\n",
              " 'started',\n",
              " 'way',\n",
              " 'enforce',\n",
              " 'took',\n",
              " 'culture',\n",
              " 'turks',\n",
              " 'visions',\n",
              " 'people',\n",
              " 'come',\n",
              " 'invaded',\n",
              " 'captured',\n",
              " 'lands',\n",
              " 'alexander',\n",
              " 'onwards',\n",
              " 'greeks',\n",
              " 'moguls',\n",
              " 'land',\n",
              " 'portuguese',\n",
              " 'british',\n",
              " 'french',\n",
              " 'dutch',\n",
              " 'came',\n",
              " 'looted',\n",
              " 'done',\n",
              " 'anyone',\n",
              " 'grabbed',\n",
              " 'second',\n",
              " 'career',\n",
              " 'development',\n",
              " 'respects',\n",
              " 'military',\n",
              " 'also',\n",
              " 'economic',\n",
              " 'go',\n",
              " 'hand-in-hand',\n",
              " 'good',\n",
              " 'fortune',\n",
              " 'vikram',\n",
              " 'sarabhai',\n",
              " 'dept',\n",
              " 'space',\n",
              " 'professor',\n",
              " 'satish',\n",
              " 'dhawan',\n",
              " 'succeeded',\n",
              " 'brahm',\n",
              " 'prakash',\n",
              " 'father',\n",
              " 'nuclear',\n",
              " 'material',\n",
              " 'lucky',\n",
              " 'closely',\n",
              " 'consider',\n",
              " 'opportunity',\n",
              " 'four',\n",
              " 'strong',\n",
              " 'stands',\n",
              " 'fifty',\n",
              " 'unless',\n",
              " 'developing',\n",
              " 'milestones',\n",
              " 'among',\n",
              " 'top',\n",
              " 'nations',\n",
              " 'terms',\n",
              " 'gdp',\n",
              " 'percent',\n",
              " 'growth',\n",
              " 'rate',\n",
              " 'areas',\n",
              " 'poverty',\n",
              " 'levels',\n",
              " 'falling',\n",
              " 'achievements',\n",
              " 'globally',\n",
              " 'recognised',\n",
              " 'today',\n",
              " 'lack',\n",
              " 'self-confidence',\n",
              " 'self-reliant',\n",
              " 'self-assured',\n",
              " 'incorrect',\n",
              " 'third',\n",
              " 'stand',\n",
              " 'time']"
            ]
          },
          "metadata": {},
          "execution_count": 34
        }
      ]
    },
    {
      "cell_type": "code",
      "source": [
        "# Finding Word Vectors for the word freedom\n",
        "vector = model.wv['freedom']\n"
      ],
      "metadata": {
        "id": "zEJbxasBiI-g"
      },
      "execution_count": 19,
      "outputs": []
    },
    {
      "cell_type": "code",
      "source": [
        "len(vector)"
      ],
      "metadata": {
        "id": "hXra0qBFiMUA",
        "colab": {
          "base_uri": "https://localhost:8080/"
        },
        "outputId": "262b109d-21b5-4970-fa69-c64ef7e44048"
      },
      "execution_count": 20,
      "outputs": [
        {
          "output_type": "execute_result",
          "data": {
            "text/plain": [
              "100"
            ]
          },
          "metadata": {},
          "execution_count": 20
        }
      ]
    },
    {
      "cell_type": "code",
      "source": [
        "vector"
      ],
      "metadata": {
        "colab": {
          "base_uri": "https://localhost:8080/"
        },
        "id": "atse8VdwqA-A",
        "outputId": "e6399446-64ae-4548-9ef8-cd09f9c9eb1c"
      },
      "execution_count": 21,
      "outputs": [
        {
          "output_type": "execute_result",
          "data": {
            "text/plain": [
              "array([-0.0051631 , -0.0066453 , -0.00776184,  0.0083275 , -0.00195818,\n",
              "       -0.00692628, -0.00412722,  0.00519563, -0.00291064, -0.00380083,\n",
              "        0.00159657, -0.002827  , -0.00159934,  0.00109188, -0.00293189,\n",
              "        0.00851129,  0.0039173 , -0.00997951,  0.00624404, -0.00680946,\n",
              "        0.00080995,  0.00440757, -0.00506883, -0.00214917,  0.00807772,\n",
              "       -0.00424843, -0.00769278,  0.00928459, -0.00216417, -0.00472591,\n",
              "        0.00860444,  0.00427192,  0.00435006,  0.00925565, -0.00846837,\n",
              "        0.00528312,  0.00204817,  0.00421336,  0.00171719,  0.00446049,\n",
              "        0.00453381,  0.00609029, -0.00319895, -0.00455255, -0.00042677,\n",
              "        0.00255552, -0.0033018 ,  0.00607402,  0.00416903,  0.00780428,\n",
              "        0.00263079,  0.00808929, -0.00134183,  0.0080396 ,  0.00372594,\n",
              "       -0.00798969, -0.00391808, -0.00244056,  0.00485149, -0.00087969,\n",
              "       -0.00283986,  0.00783192,  0.00931493, -0.00159713, -0.00516179,\n",
              "       -0.00465352, -0.00484487, -0.00957492,  0.00137493, -0.00421809,\n",
              "        0.00249247,  0.00560655, -0.00401112, -0.00959241,  0.00158418,\n",
              "       -0.00670505,  0.00250431, -0.00379514,  0.00709942,  0.00063034,\n",
              "        0.00353738, -0.00271629, -0.00176523,  0.00768152,  0.00140953,\n",
              "       -0.00584416, -0.00778533,  0.00125514,  0.0064905 ,  0.005566  ,\n",
              "       -0.00891621,  0.00861838,  0.00400781,  0.00746545,  0.00979657,\n",
              "       -0.00725363, -0.00907492,  0.00585616,  0.00939498,  0.00346861],\n",
              "      dtype=float32)"
            ]
          },
          "metadata": {},
          "execution_count": 21
        }
      ]
    },
    {
      "cell_type": "code",
      "source": [
        "# Most similar words\n",
        "similar = model.wv.most_similar('professor') # words which come in context with the given word in the paragraph"
      ],
      "metadata": {
        "id": "o_i4caQBiK9Q"
      },
      "execution_count": 35,
      "outputs": []
    },
    {
      "cell_type": "code",
      "source": [
        "similar"
      ],
      "metadata": {
        "colab": {
          "base_uri": "https://localhost:8080/"
        },
        "id": "G0iLpV4biO5w",
        "outputId": "4ff04d33-db36-40d4-d32a-984ea0003654"
      },
      "execution_count": 36,
      "outputs": [
        {
          "output_type": "execute_result",
          "data": {
            "text/plain": [
              "[('consider', 0.24767707288265228),\n",
              " ('looted', 0.217461958527565),\n",
              " ('’', 0.17328034341335297),\n",
              " ('invaded', 0.16238370537757874),\n",
              " ('war', 0.15752415359020233),\n",
              " ('among', 0.1556834578514099),\n",
              " ('opportunity', 0.15104514360427856),\n",
              " ('respects', 0.147064670920372),\n",
              " ('moguls', 0.13638527691364288),\n",
              " ('brahm', 0.13400931656360626)]"
            ]
          },
          "metadata": {},
          "execution_count": 36
        }
      ]
    },
    {
      "cell_type": "code",
      "source": [
        "# Most similar words\n",
        "similar = model.wv.most_similar('india')"
      ],
      "metadata": {
        "id": "LW6uotot4Jfk"
      },
      "execution_count": 24,
      "outputs": []
    },
    {
      "cell_type": "code",
      "source": [
        "similar"
      ],
      "metadata": {
        "colab": {
          "base_uri": "https://localhost:8080/"
        },
        "id": "BgLgk3ub4Qs6",
        "outputId": "f2854037-269f-4c27-fc8c-e6c85e8c545c"
      },
      "execution_count": 25,
      "outputs": [
        {
          "output_type": "execute_result",
          "data": {
            "text/plain": [
              "[('military', 0.370004802942276),\n",
              " ('took', 0.2122114896774292),\n",
              " ('greeks', 0.2021765112876892),\n",
              " ('three', 0.19961436092853546),\n",
              " ('prakash', 0.1892213076353073),\n",
              " ('developing', 0.1821625530719757),\n",
              " ('see', 0.17356346547603607),\n",
              " ('protect', 0.17105315625667572),\n",
              " ('must', 0.17062462866306305),\n",
              " ('recognised', 0.16197067499160767)]"
            ]
          },
          "metadata": {},
          "execution_count": 25
        }
      ]
    }
  ]
}